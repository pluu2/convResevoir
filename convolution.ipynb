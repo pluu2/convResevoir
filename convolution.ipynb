{
 "cells": [
  {
   "cell_type": "code",
   "execution_count": 53,
   "metadata": {},
   "outputs": [],
   "source": [
    "import numpy as np \n",
    "import jax.numpy as jnp\n",
    "import jax\n",
    "from jax import grad,jit,vmap\n",
    "import jaxconv \n",
    "from jaxconv import *\n",
    "from mlxtend.data import loadlocal_mnist\n",
    "import platform\n",
    "import utils\n",
    "from utils import to_categorical\n",
    "from utils import load_mnist\n",
    "import matplotlib.pyplot as py\n",
    "import timeit"
   ]
  },
  {
   "cell_type": "markdown",
   "metadata": {},
   "source": [
    "Load Data"
   ]
  },
  {
   "cell_type": "code",
   "execution_count": 5,
   "metadata": {},
   "outputs": [],
   "source": [
    "(train_data,train_labels),(test_data,test_labels)=load_mnist('../Sampling Network/data/')\n",
    "train_data=train_data.reshape(60000,1,28,28)/255.0 \n",
    "test_data=test_data.reshape(10000,1,28,28)/255.0 \n",
    "train_labels=to_categorical(train_labels)\n",
    "test_labels=to_categorical(test_labels)"
   ]
  },
  {
   "cell_type": "markdown",
   "metadata": {},
   "source": [
    "speeding up layers"
   ]
  },
  {
   "cell_type": "code",
   "execution_count": 6,
   "metadata": {},
   "outputs": [],
   "source": [
    "jit_conv=jit(conv)"
   ]
  },
  {
   "cell_type": "markdown",
   "metadata": {},
   "source": [
    "Model"
   ]
  },
  {
   "cell_type": "code",
   "execution_count": 8,
   "metadata": {},
   "outputs": [],
   "source": [
    "def forward(params,input):\n",
    "  #2 Convolution Layers.\n",
    "  layer1=jit_conv(input,params[0],im2col_matrix_layer1)\n",
    "  layer1=jax.nn.relu(layer1)\n",
    "  sampler=layer1\n",
    " \n",
    "  ###FC network starts\n",
    "  layer1=layer1.flatten()\n",
    "  l1=np.dot(layer1,params[2][0].T)+params[2][1]\n",
    "  l1=jax.nn.relu(l1)\n",
    "  l2=np.dot(l1,params[3][0].T)+params[3][1] \n",
    "  l2=jax.nn.softmax(l2)\n",
    "  return [l2,sampler]\n",
    "\n",
    "def NLL(x,y): \n",
    "    return -np.log(x[np.argmax(y)]) #assuming one hot\n",
    "def NLL_loss(params,i,t): \n",
    "  pred,_=jit(forward)(params,i)\n",
    "  final=jit(NLL)(pred,t)\n",
    "  return final\n",
    "\n",
    "#Function to update parameters after gradient is calculated. \n",
    "#assumes the gradient input has shape [batch_size,weight matrix]\n",
    "#Mini-batch SGD --> summed gradients. \n",
    "def update_weights(params, gradient ,lr=1.0): \n",
    "  for i in range(len(params)): #iterate through the layer. \n",
    "    params[i][0]=params[i][0]-(lr*np.sum(gradient[i][0],axis=0))\n",
    "    params[i][1]=params[i][1]-(lr*np.sum(gradient[i][1],axis=0))\n",
    "  return params\n",
    "\n",
    "\n",
    "vmap_forward=vmap(forward,in_axes=(None,0)) #jax.vmap is used to vectorize the process to allow for batching. \n",
    "gradient_=jit(grad(NLL_loss,argnums=(0)))\n",
    "vmap_gradient = vmap(gradient_,in_axes=(None,0,0))\n",
    "gradient =jit(vmap_gradient)\n"
   ]
  },
  {
   "cell_type": "code",
   "execution_count": 57,
   "metadata": {},
   "outputs": [],
   "source": [
    "onp.random.seed(1100)\n",
    "conv_params =init_conv_parameters(filters=[2,2],size=[3,3],image_depth=1)\n",
    "fc_params=init_parameters([300,10],input_shape=1568)\n",
    "params=conv_params+fc_params #totalling 2 convs layers, 2 fc layers \n",
    "im2col_matrix_layer1=im2col(row=28,height=28,depth=1,padding=1) #This is the initial size so mnist starts at 1, but with 4 filters the next layer will be 4. \n",
    "im2col_matrix_layer2=im2col(row=14,height=14,depth=32,padding=1)\n",
    "#im2col_matrix_layer3=im2col(row=7,height=7,depth=32,padding=1)\n"
   ]
  },
  {
   "cell_type": "markdown",
   "metadata": {},
   "source": [
    "Main Training Loop"
   ]
  },
  {
   "cell_type": "code",
   "execution_count": 58,
   "metadata": {},
   "outputs": [
    {
     "name": "stdout",
     "output_type": "stream",
     "text": [
      "epoch time:  2.367202998999346\n",
      "epoch:  1\n",
      "0.94\n",
      "epoch time:  2.367669391000163\n",
      "epoch:  2\n",
      "0.97\n",
      "epoch time:  2.469605603000673\n",
      "epoch:  3\n",
      "0.97\n",
      "epoch time:  2.3734546999994564\n",
      "epoch:  4\n",
      "0.98\n",
      "epoch time:  2.347651224999936\n",
      "epoch:  5\n",
      "0.98\n",
      "epoch time:  2.3315938780006036\n",
      "epoch:  6\n",
      "0.98\n",
      "epoch time:  2.3297171009999147\n",
      "epoch:  7\n",
      "0.97\n",
      "epoch time:  2.371845891000703\n",
      "epoch:  8\n",
      "0.98\n",
      "epoch time:  2.3289824299999964\n",
      "epoch:  9\n",
      "0.97\n",
      "epoch time:  2.330150378000326\n",
      "epoch:  10\n",
      "0.97\n"
     ]
    }
   ],
   "source": [
    "ctr=0\n",
    "\n",
    "for i in range(10): #epochs\n",
    "  start_time = timeit.default_timer()\n",
    "  for j in range(400): #number of batches to iterate.\n",
    "    \n",
    "    dparams=gradient(params,train_data[ctr:ctr+100],train_labels[ctr:ctr+100]) #The last value is batch size\n",
    "    params= jit(update_weights)(params,dparams,lr=0.001)\n",
    "    ctr=ctr+100\n",
    "\n",
    "    if ctr+100>40000:\n",
    "      ctr=0\n",
    "  elapsed = timeit.default_timer() - start_time\n",
    "  print (f'epoch time: ' ,elapsed)  \n",
    "  pred,_=jit(vmap_forward)(params,train_data[40300:40400])\n",
    "  pred=np.argmax(pred,axis=1)\n",
    "\n",
    "  targets=np.argmax(train_labels[40300:40400],axis=1)\n",
    "  print (f'epoch: ', i+1)\n",
    "  print(len(np.where(pred == targets)[0])/100)"
   ]
  },
  {
   "cell_type": "code",
   "execution_count": 31,
   "metadata": {},
   "outputs": [],
   "source": [
    "conv_image=jit_conv(train_data[10],params[0],im2col_matrix_layer1)"
   ]
  },
  {
   "cell_type": "code",
   "execution_count": 52,
   "metadata": {},
   "outputs": [
    {
     "data": {
      "text/plain": [
       "<matplotlib.image.AxesImage at 0x7faa8c9e7d60>"
      ]
     },
     "execution_count": 52,
     "metadata": {},
     "output_type": "execute_result"
    },
    {
     "data": {
      "image/png": "[encoded data removed]",
      "text/plain": [
       "<Figure size 432x288 with 1 Axes>"
      ]
     },
     "metadata": {
      "needs_background": "light"
     },
     "output_type": "display_data"
    }
   ],
   "source": [
    "py.imshow(conv_image[6].reshape(28,28))"
   ]
  },
  {
   "cell_type": "code",
   "execution_count": 51,
   "metadata": {},
   "outputs": [
    {
     "data": {
      "text/plain": [
       "<matplotlib.image.AxesImage at 0x7faa8ca2fa90>"
      ]
     },
     "execution_count": 51,
     "metadata": {},
     "output_type": "execute_result"
    },
    {
     "data": {
      "image/png": "[encoded data removed]",
      "text/plain": [
       "<Figure size 432x288 with 1 Axes>"
      ]
     },
     "metadata": {
      "needs_background": "light"
     },
     "output_type": "display_data"
    }
   ],
   "source": [
    "py.imshow(params[0][0][2][0])"
   ]
  },
  {
   "cell_type": "code",
   "execution_count": null,
   "metadata": {},
   "outputs": [],
   "source": []
  }
 ],
 "metadata": {
  "kernelspec": {
   "display_name": "Python 3",
   "language": "python",
   "name": "python3"
  },
  "language_info": {
   "codemirror_mode": {
    "name": "ipython",
    "version": 3
   },
   "file_extension": ".py",
   "mimetype": "text/x-python",
   "name": "python",
   "nbconvert_exporter": "python",
   "pygments_lexer": "ipython3",
   "version": "3.8.5"
  }
 },
 "nbformat": 4,
 "nbformat_minor": 4
}
